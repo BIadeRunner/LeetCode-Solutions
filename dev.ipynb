{
 "cells": [
  {
   "cell_type": "code",
   "execution_count": 2,
   "metadata": {},
   "outputs": [
    {
     "name": "stdout",
     "output_type": "stream",
     "text": [
      "Initializing WebDriver...\n",
      "Navigating to LeetCode login page...\n",
      "Waiting for Continue button...\n",
      "Clicked Continue button.\n",
      "Waiting for GitHub login page to load...\n",
      "Login successful.\n"
     ]
    },
    {
     "data": {
      "text/plain": [
       "{'_ga': 'GA1.2.56629168.1726609680',\n",
       " 'LEETCODE_SESSION': 'eyJ0eXAiOiJKV1QiLCJhbGciOiJIUzI1NiJ9.eyJfYXV0aF91c2VyX2lkIjoiMTI2NzA5MjgiLCJfYXV0aF91c2VyX2JhY2tlbmQiOiJhbGxhdXRoLmFjY291bnQuYXV0aF9iYWNrZW5kcy5BdXRoZW50aWNhdGlvbkJhY2tlbmQiLCJfYXV0aF91c2VyX2hhc2giOiI5NTBhZjMyNmYyMjc0NDE4OGIwZTJlYmQyMTk3ZWQzYzAyMmU4NWIxMTZjNDc2MzJlYjM0Yzk4M2VmZWZiNTFlIiwiaWQiOjEyNjcwOTI4LCJlbWFpbCI6ImxhbmdzLjk3MTEwNEBnbWFpbC5jb20iLCJ1c2VybmFtZSI6ImdoMHN0aW50aGVzaGUxMSIsInVzZXJfc2x1ZyI6ImdoMHN0aW50aGVzaGUxMSIsImF2YXRhciI6Imh0dHBzOi8vYXNzZXRzLmxlZXRjb2RlLmNvbS91c2Vycy9naDBzdGludGhlc2hlMTEvYXZhdGFyXzE3MTAyMDQyNjQucG5nIiwicmVmcmVzaGVkX2F0IjoxNzI2NjA5NjkyLCJpcCI6IjE0Mi4xOTguMjE0LjE0MiIsImlkZW50aXR5IjoiZThkYjFhOTEwZWUwODhiNDY5ZWNmZDJiNmE5YjlkYTUiLCJzZXNzaW9uX2lkIjo3MjY2ODc5Mn0.bxFFduqm2Nd0_I94WWuIbj_0eWo015oF2X5XBDUQ3kM',\n",
       " 'gr_user_id': '8064b639-1552-4ae5-bac5-18e205b69a46',\n",
       " 'csrftoken': '8UpC2D7q1jaQduhYoCWRt5LQUyjn8YTwzjTZHRKFKPQALBuBNC60z8q2XLaLQS7r',\n",
       " '_ga_CDRWKZTDEX': 'GS1.1.1726609680.1.1.1726609693.47.0.0',\n",
       " '_dd_s': 'rum=0&expire=1726610584389',\n",
       " '87b5a3c3f1a55520_gr_session_id_sent_vst': 'e770d55e-34f4-4c6a-9d6d-119090784bbb',\n",
       " 'messages': 'W1siX19qc29uX21lc3NhZ2UiLDAsMjUsIlN1Y2Nlc3NmdWxseSBzaWduZWQgaW4gYXMgZ2gwc3RpbnRoZXNoZTExLiJdXQ:1sqg3Q:AKLlRIiJTG9qaGU7wZIRWP0tfNyfugvOZKMibtowTH0',\n",
       " '87b5a3c3f1a55520_gr_session_id': 'e770d55e-34f4-4c6a-9d6d-119090784bbb',\n",
       " 'ip_check': '(false, \"142.198.214.142\")',\n",
       " '_gat': '1',\n",
       " '_gid': 'GA1.2.1583653120.1726609680',\n",
       " '__cf_bm': 'bImS6L.YQZ3zwWInfjQ27QcVO3hpGQDqxQsoLwUATRk-1726609679-1.0.1.1-.Iol71JMNRdZe1SRo88XK2QqbK.ZrcreiBaYo2PBU1TvnzoU7nxtTOCYUHjL2Vnh2mEPkfd5ZkumRkF6KxQ1EQ'}"
      ]
     },
     "execution_count": 2,
     "metadata": {},
     "output_type": "execute_result"
    }
   ],
   "source": [
    "# import the login function from the solver-dev.py file\n",
    "from solver_dev import login_to_leetcode\n",
    "\n",
    "# call the login function\n",
    "login_to_leetcode()"
   ]
  },
  {
   "cell_type": "code",
   "execution_count": null,
   "metadata": {},
   "outputs": [],
   "source": [
    "{'data': {'question': {'questionId': '1', 'questionFrontendId': '1', 'title': 'Two Sum', 'content': '<p>Given an array of integers <code>nums</code>&nbsp;and an integer <code>target</code>, return <em>indices of the two numbers such that they add up to <code>target</code></em>.</p>\\n\\n<p>You may assume that each input would have <strong><em>exactly</em> one solution</strong>, and you may not use the <em>same</em> element twice.</p>\\n\\n<p>You can return the answer in any order.</p>\\n\\n<p>&nbsp;</p>\\n<p><strong class=\"example\">Example 1:</strong></p>\\n\\n<pre>\\n<strong>Input:</strong> nums = [2,7,11,15], target = 9\\n<strong>Output:</strong> [0,1]\\n<strong>Explanation:</strong> Because nums[0] + nums[1] == 9, we return [0, 1].\\n</pre>\\n\\n<p><strong class=\"example\">Example 2:</strong></p>\\n\\n<pre>\\n<strong>Input:</strong> nums = [3,2,4], target = 6\\n<strong>Output:</strong> [1,2]\\n</pre>\\n\\n<p><strong class=\"example\">Example 3:</strong></p>\\n\\n<pre>\\n<strong>Input:</strong> nums = [3,3], target = 6\\n<strong>Output:</strong> [0,1]\\n</pre>\\n\\n<p>&nbsp;</p>\\n<p><strong>Constraints:</strong></p>\\n\\n<ul>\\n\\t<li><code>2 &lt;= nums.length &lt;= 10<sup>4</sup></code></li>\\n\\t<li><code>-10<sup>9</sup> &lt;= nums[i] &lt;= 10<sup>9</sup></code></li>\\n\\t<li><code>-10<sup>9</sup> &lt;= target &lt;= 10<sup>9</sup></code></li>\\n\\t<li><strong>Only one valid answer exists.</strong></li>\\n</ul>\\n\\n<p>&nbsp;</p>\\n<strong>Follow-up:&nbsp;</strong>Can you come up with an algorithm that is less than <code>O(n<sup>2</sup>)</code><font face=\"monospace\">&nbsp;</font>time complexity?', 'hints': [\"A really brute force way would be to search for all possible pairs of numbers but that would be too slow. Again, it's best to try out brute force solutions for just for completeness. It is from these brute force solutions that you can come up with optimizations.\", 'So, if we fix one of the numbers, say <code>x</code>, we have to scan the entire array to find the next number <code>y</code> which is <code>value - x</code> where value is the input parameter. Can we change our array somehow so that this search becomes faster?', 'The second train of thought is, without changing the array, can we use additional space somehow? Like maybe a hash map to speed up the search?'], 'sampleTestCase': '[2,7,11,15]\\n9', 'codeSnippets': [{'langSlug': 'cpp', 'code': 'class Solution {\\npublic:\\n    vector<int> twoSum(vector<int>& nums, int target) {\\n        \\n    }\\n};'}, {'langSlug': 'java', 'code': 'class Solution {\\n    public int[] twoSum(int[] nums, int target) {\\n        \\n    }\\n}'}, {'langSlug': 'python', 'code': 'class Solution(object):\\n    def twoSum(self, nums, target):\\n        \"\"\"\\n        :type nums: List[int]\\n        :type target: int\\n        :rtype: List[int]\\n        \"\"\"\\n        '}, {'langSlug': 'python3', 'code': 'class Solution:\\n    def twoSum(self, nums: List[int], target: int) -> List[int]:\\n        '}, {'langSlug': 'c', 'code': '/**\\n * Note: The returned array must be malloced, assume caller calls free().\\n */\\nint* twoSum(int* nums, int numsSize, int target, int* returnSize) {\\n    \\n}'}, {'langSlug': 'csharp', 'code': 'public class Solution {\\n    public int[] TwoSum(int[] nums, int target) {\\n        \\n    }\\n}'}, {'langSlug': 'javascript', 'code': '/**\\n * @param {number[]} nums\\n * @param {number} target\\n * @return {number[]}\\n */\\nvar twoSum = function(nums, target) {\\n    \\n};'}, {'langSlug': 'typescript', 'code': 'function twoSum(nums: number[], target: number): number[] {\\n    \\n};'}, {'langSlug': 'php', 'code': 'class Solution {\\n\\n    /**\\n     * @param Integer[] $nums\\n     * @param Integer $target\\n     * @return Integer[]\\n     */\\n    function twoSum($nums, $target) {\\n        \\n    }\\n}'}, {'langSlug': 'swift', 'code': 'class Solution {\\n    func twoSum(_ nums: [Int], _ target: Int) -> [Int] {\\n        \\n    }\\n}'}, {'langSlug': 'kotlin', 'code': 'class Solution {\\n    fun twoSum(nums: IntArray, target: Int): IntArray {\\n        \\n    }\\n}'}, {'langSlug': 'dart', 'code': 'class Solution {\\n  List<int> twoSum(List<int> nums, int target) {\\n    \\n  }\\n}'}, {'langSlug': 'golang', 'code': 'func twoSum(nums []int, target int) []int {\\n    \\n}'}, {'langSlug': 'ruby', 'code': '# @param {Integer[]} nums\\n# @param {Integer} target\\n# @return {Integer[]}\\ndef two_sum(nums, target)\\n    \\nend'}, {'langSlug': 'scala', 'code': 'object Solution {\\n    def twoSum(nums: Array[Int], target: Int): Array[Int] = {\\n        \\n    }\\n}'}, {'langSlug': 'rust', 'code': 'impl Solution {\\n    pub fn two_sum(nums: Vec<i32>, target: i32) -> Vec<i32> {\\n        \\n    }\\n}'}, {'langSlug': 'racket', 'code': '(define/contract (two-sum nums target)\\n  (-> (listof exact-integer?) exact-integer? (listof exact-integer?))\\n  )'}, {'langSlug': 'erlang', 'code': '-spec two_sum(Nums :: [integer()], Target :: integer()) -> [integer()].\\ntwo_sum(Nums, Target) ->\\n  .'}, {'langSlug': 'elixir', 'code': 'defmodule Solution do\\n  @spec two_sum(nums :: [integer], target :: integer) :: [integer]\\n  def two_sum(nums, target) do\\n    \\n  end\\nend'}]}}}\n"
   ]
  },
  {
   "cell_type": "code",
   "execution_count": null,
   "metadata": {},
   "outputs": [],
   "source": [
    "{'status_code': 10, 'lang': 'c', 'run_success': True, 'status_runtime': '10 ms', 'memory': 9732000, 'question_id': '1', 'elapsed_time': 18, 'compare_result': '111111111111111111111111111111111111111111111111111111111111111', 'code_output': '', 'std_output': '', 'last_testcase': '', 'expected_output': '', 'task_finish_time': 1726611359682, 'task_name': 'judger.judgetask.Judge', 'finished': True, 'total_correct': 63, 'total_testcases': 63, 'runtime_percentile': 93.18539999999999, 'status_memory': '9.7 MB', 'memory_percentile': 5.283800000000018, 'pretty_lang': 'C', 'submission_id': '1393733925', 'status_msg': 'Accepted', 'state': 'SUCCESS'}"
   ]
  }
 ],
 "metadata": {
  "kernelspec": {
   "display_name": "Python 3",
   "language": "python",
   "name": "python3"
  },
  "language_info": {
   "codemirror_mode": {
    "name": "ipython",
    "version": 3
   },
   "file_extension": ".py",
   "mimetype": "text/x-python",
   "name": "python",
   "nbconvert_exporter": "python",
   "pygments_lexer": "ipython3",
   "version": "3.11.9"
  }
 },
 "nbformat": 4,
 "nbformat_minor": 2
}
