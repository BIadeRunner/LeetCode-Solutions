{
 "cells": [
  {
   "cell_type": "code",
   "execution_count": 6,
   "metadata": {},
   "outputs": [
    {
     "name": "stdout",
     "output_type": "stream",
     "text": [
      "Initializing WebDriver...\n",
      "Navigating to LeetCode login page...\n",
      "Waiting for Continue button...\n",
      "Clicked Continue button.\n",
      "Waiting for GitHub login page to load...\n"
     ]
    },
    {
     "ename": "ValueError",
     "evalue": "GITHUB_USERNAME environment variable is not set",
     "output_type": "error",
     "traceback": [
      "\u001b[1;31m---------------------------------------------------------------------------\u001b[0m",
      "\u001b[1;31mValueError\u001b[0m                                Traceback (most recent call last)",
      "Cell \u001b[1;32mIn[6], line 5\u001b[0m\n\u001b[0;32m      2\u001b[0m \u001b[38;5;28;01mfrom\u001b[39;00m \u001b[38;5;21;01msolver_dev\u001b[39;00m \u001b[38;5;28;01mimport\u001b[39;00m login_to_leetcode\n\u001b[0;32m      4\u001b[0m \u001b[38;5;66;03m# call the login function\u001b[39;00m\n\u001b[1;32m----> 5\u001b[0m \u001b[43mlogin_to_leetcode\u001b[49m\u001b[43m(\u001b[49m\u001b[43m)\u001b[49m\n",
      "File \u001b[1;32me:\\LeetCode-Solver-Bot\\solver_dev.py:69\u001b[0m, in \u001b[0;36mlogin_to_leetcode\u001b[1;34m()\u001b[0m\n\u001b[0;32m     67\u001b[0m \u001b[38;5;66;03m# Add this check before using GITHUB_USERNAME\u001b[39;00m\n\u001b[0;32m     68\u001b[0m \u001b[38;5;28;01mif\u001b[39;00m GITHUB_USERNAME \u001b[38;5;129;01mis\u001b[39;00m \u001b[38;5;28;01mNone\u001b[39;00m:\n\u001b[1;32m---> 69\u001b[0m     \u001b[38;5;28;01mraise\u001b[39;00m \u001b[38;5;167;01mValueError\u001b[39;00m(\u001b[38;5;124m\"\u001b[39m\u001b[38;5;124mGITHUB_USERNAME environment variable is not set\u001b[39m\u001b[38;5;124m\"\u001b[39m)\n\u001b[0;32m     71\u001b[0m driver\u001b[38;5;241m.\u001b[39mfind_element(By\u001b[38;5;241m.\u001b[39mID, \u001b[38;5;124m\"\u001b[39m\u001b[38;5;124mlogin_field\u001b[39m\u001b[38;5;124m\"\u001b[39m)\u001b[38;5;241m.\u001b[39msend_keys(GITHUB_USERNAME)\n\u001b[0;32m     72\u001b[0m driver\u001b[38;5;241m.\u001b[39mfind_element(By\u001b[38;5;241m.\u001b[39mID, \u001b[38;5;124m\"\u001b[39m\u001b[38;5;124mpassword\u001b[39m\u001b[38;5;124m\"\u001b[39m)\u001b[38;5;241m.\u001b[39msend_keys(GITHUB_PASSWORD)\n",
      "\u001b[1;31mValueError\u001b[0m: GITHUB_USERNAME environment variable is not set"
     ]
    }
   ],
   "source": [
    "# import the login function from the solver-dev.py file\n",
    "from solver_dev import login_to_leetcode\n",
    "\n",
    "# call the login function\n",
    "login_to_leetcode()"
   ]
  },
  {
   "cell_type": "code",
   "execution_count": null,
   "metadata": {},
   "outputs": [],
   "source": []
  }
 ],
 "metadata": {
  "kernelspec": {
   "display_name": "Python 3",
   "language": "python",
   "name": "python3"
  },
  "language_info": {
   "codemirror_mode": {
    "name": "ipython",
    "version": 3
   },
   "file_extension": ".py",
   "mimetype": "text/x-python",
   "name": "python",
   "nbconvert_exporter": "python",
   "pygments_lexer": "ipython3",
   "version": "3.11.9"
  }
 },
 "nbformat": 4,
 "nbformat_minor": 2
}
