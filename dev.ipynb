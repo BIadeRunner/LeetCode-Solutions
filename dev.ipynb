{
 "cells": [
  {
   "cell_type": "code",
   "execution_count": 1,
   "metadata": {},
   "outputs": [
    {
     "name": "stdout",
     "output_type": "stream",
     "text": [
      "Initializing WebDriver...\n",
      "Navigating to LeetCode login page...\n",
      "Waiting for Continue button...\n",
      "Clicked Continue button.\n",
      "Waiting for GitHub login page to load...\n",
      "Login successful.\n"
     ]
    },
    {
     "data": {
      "text/plain": [
       "{'_ga': 'GA1.1.426359378.1726628628',\n",
       " 'LEETCODE_SESSION': 'eyJ0eXAiOiJKV1QiLCJhbGciOiJIUzI1NiJ9.eyJfYXV0aF91c2VyX2lkIjoiMTI2NzA5MjgiLCJfYXV0aF91c2VyX2JhY2tlbmQiOiJhbGxhdXRoLmFjY291bnQuYXV0aF9iYWNrZW5kcy5BdXRoZW50aWNhdGlvbkJhY2tlbmQiLCJfYXV0aF91c2VyX2hhc2giOiI5NTBhZjMyNmYyMjc0NDE4OGIwZTJlYmQyMTk3ZWQzYzAyMmU4NWIxMTZjNDc2MzJlYjM0Yzk4M2VmZWZiNTFlIiwiaWQiOjEyNjcwOTI4LCJlbWFpbCI6ImxhbmdzLjk3MTEwNEBnbWFpbC5jb20iLCJ1c2VybmFtZSI6ImdoMHN0aW50aGVzaGUxMSIsInVzZXJfc2x1ZyI6ImdoMHN0aW50aGVzaGUxMSIsImF2YXRhciI6Imh0dHBzOi8vYXNzZXRzLmxlZXRjb2RlLmNvbS91c2Vycy9naDBzdGludGhlc2hlMTEvYXZhdGFyXzE3MTAyMDQyNjQucG5nIiwicmVmcmVzaGVkX2F0IjoxNzI2NjI4NjQxLCJpcCI6IjE0Mi4xOTguMjE0LjE0MiIsImlkZW50aXR5IjoiMDk5OTNhYjg2OGY0NzBjZjI0ZTI2ZmE0Zjk0MzlkOWUiLCJzZXNzaW9uX2lkIjo3MjY4MTg0OH0.kIYCkJZPHc_FmxtYYELbJnRfMChc9EgvSpyj1PbyI18',\n",
       " 'gr_user_id': 'c5962b4f-92d1-43f5-b30f-d7dcfd682ea5',\n",
       " 'csrftoken': '0C1GZxivujOgm3atDkim5HlTFin1SwcNVmTxqjCmHoE9562IAcdWZZDbYK3W2eFD',\n",
       " '_ga_CDRWKZTDEX': 'GS1.1.1726628628.1.1.1726628641.47.0.0',\n",
       " '_dd_s': 'rum=0&expire=1726629533220',\n",
       " '87b5a3c3f1a55520_gr_session_id_sent_vst': 'be00a9cd-708f-4620-a677-2d197e054029',\n",
       " 'messages': 'W1siX19qc29uX21lc3NhZ2UiLDAsMjUsIlN1Y2Nlc3NmdWxseSBzaWduZWQgaW4gYXMgZ2gwc3RpbnRoZXNoZTExLiJdXQ:1sqkz3:jvYNsBAkj6uJr_UtdnHvA8Lg6DrdqleuobW0mUhJYqg',\n",
       " '87b5a3c3f1a55520_gr_session_id': 'be00a9cd-708f-4620-a677-2d197e054029',\n",
       " 'ip_check': '(false, \"142.198.214.142\")',\n",
       " '_gat': '1',\n",
       " '_gid': 'GA1.2.1788959296.1726628628',\n",
       " '__cf_bm': '00.U5i7D7reawJrMqmFhbpLxDbdqqp8Wez.rQNUkshg-1726628628-1.0.1.1-5i6wSM1nE8ozWoHF.YMTX1yDQdrzuuGXWdP8Zo1JrhBNWr4gfdqHzIEYPn6YTiw4oGSP_i3u0OMPwJL3SzlpEw'}"
      ]
     },
     "execution_count": 1,
     "metadata": {},
     "output_type": "execute_result"
    }
   ],
   "source": [
    "# import the login function from the solver-dev.py file\n",
    "from solver_dev import login_to_leetcode\n",
    "\n",
    "# call the login function\n",
    "login_to_leetcode()"
   ]
  },
  {
   "cell_type": "code",
   "execution_count": null,
   "metadata": {},
   "outputs": [],
   "source": [
    "{\n",
    "    \"questionId\": \"2242\",\n",
    "    \"titleSlug\": \"subsequence-of-size-k-with-the-largest-even-sum\",\n",
    "    \"difficulty\": \"Medium\",\n",
    "    \"isPaidOnly\": True,\n",
    "    \"acRate\": 36.576,\n",
    "}"
   ]
  },
  {
   "cell_type": "code",
   "execution_count": null,
   "metadata": {},
   "outputs": [],
   "source": [
    "{\n",
    "    \"status_code\": 20,\n",
    "    \"lang\": \"c\",\n",
    "    \"run_success\": False,\n",
    "    \"compile_error\": \"\",\n",
    "    \"full_compile_error\": \"solution.c: In function ‘main’\\nLine 159: Char 25: warning: implicit declaration of function ‘largestEvenSum’ [-Wimplicit-function-declaration] [solution.c]\\n  162 |         long long ret = largestEvenSum(param_1, size_1, param_2);\\n      |                         ^~~~~~~~~~~~~~\\n/leetcode/user_code/runcode_1726632721.069605_X2Q6rhn73L_interpret_task/prog_joined.c:162: error: undefined reference to 'largestEvenSum'\\ncollect2: error: ld returned 1 exit status\",\n",
    "    \"status_runtime\": \"N/A\",\n",
    "    \"memory\": 0,\n",
    "    \"code_answer\": [],\n",
    "    \"code_output\": [],\n",
    "    \"std_output_list\": [\"\"],\n",
    "    \"task_finish_time\": 1726632721288,\n",
    "    \"task_name\": \"judger.runcodetask.RunCode\",\n",
    "    \"total_correct\": None,\n",
    "    \"total_testcases\": None,\n",
    "    \"runtime_percentile\": None,\n",
    "    \"status_memory\": \"N/A\",\n",
    "    \"memory_percentile\": None,\n",
    "    \"pretty_lang\": \"C\",\n",
    "    \"submission_id\": \"runcode_1726632721.069605_X2Q6rhn73L\",\n",
    "    \"status_msg\": \"Compile Error\",\n",
    "    \"state\": \"SUCCESS\",\n",
    "}"
   ]
  },
  {
   "cell_type": "code",
   "execution_count": 3,
   "metadata": {},
   "outputs": [
    {
     "name": "stdout",
     "output_type": "stream",
     "text": [
      "ChatCompletionMessage(content='Hi there! How can I assist you today?', refusal=None, role='assistant', function_call=None, tool_calls=None)\n"
     ]
    }
   ],
   "source": [
    "import os\n",
    "from openai import OpenAI\n",
    "from dotenv import load_dotenv\n",
    "\n",
    "# load the .env file\n",
    "load_dotenv()\n",
    "\n",
    "# generate the solution using GPT model\n",
    "def generate():\n",
    "    \n",
    "    client = OpenAI(api_key=os.getenv('OPENAI_API_KEY'))\n",
    "    \n",
    "    completion = client.chat.completions.create(\n",
    "        model=\"gpt-4o-mini\",\n",
    "        messages=[\n",
    "            {\"role\": \"system\", \"content\": \"You are a helpful assistant.\"},\n",
    "            {\n",
    "                \"role\": \"user\",\n",
    "                \"content\": \"say hi!\"\n",
    "            }\n",
    "        ]\n",
    "    )\n",
    "\n",
    "    print(completion.choices[0].message)\n",
    "    \n",
    "generate()"
   ]
  }
 ],
 "metadata": {
  "kernelspec": {
   "display_name": "Python 3",
   "language": "python",
   "name": "python3"
  },
  "language_info": {
   "codemirror_mode": {
    "name": "ipython",
    "version": 3
   },
   "file_extension": ".py",
   "mimetype": "text/x-python",
   "name": "python",
   "nbconvert_exporter": "python",
   "pygments_lexer": "ipython3",
   "version": "3.11.9"
  }
 },
 "nbformat": 4,
 "nbformat_minor": 2
}
